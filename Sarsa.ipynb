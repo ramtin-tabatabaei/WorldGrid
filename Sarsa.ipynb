{
 "cells": [
  {
   "cell_type": "code",
   "execution_count": 1,
   "id": "4a0982a8-fff8-44f9-b711-143477a8a6f8",
   "metadata": {},
   "outputs": [],
   "source": [
    "import numpy as np\n",
    "import copy \n",
    "import random\n",
    "\n",
    "# The explaination for this part is very similar to part C\n",
    "\n",
    "# Environemnts \n",
    "\n",
    "rewards = np.ones((36,4))*-1\n",
    "\n",
    "    \n",
    "    \n",
    "for i in range(5):\n",
    "    rewards[1+6*i,0] = -5\n",
    "    rewards[4+6*i,1] = -5\n",
    "    rewards[4+6*i,3] = -5\n",
    "\n",
    "    \n",
    "rewards[8,0] = -5\n",
    "rewards[3,1] = -5\n",
    "rewards[15,1] = -5\n",
    "rewards[21,1] = -5\n",
    "rewards[34,0] = -5\n",
    "rewards[34,1] = -5\n",
    "rewards[34,2] = -5\n",
    "rewards[34,3] = -5\n",
    "rewards[4,2] = -5\n",
    "rewards[16,2] = -5\n",
    "rewards[7,2] = -5\n",
    "rewards[9,3] = -5\n",
    "rewards[21,3] = -5\n",
    "rewards[27,3] = -5\n",
    "\n",
    "\n",
    "rewards[27,0] = 50\n",
    "rewards[25,1] = 50\n",
    "rewards[31,0] = 50\n",
    "rewards[31,1] = 50\n",
    "rewards[31,2] = 50\n",
    "rewards[31,3] = 50"
   ]
  },
  {
   "cell_type": "code",
   "execution_count": 2,
   "id": "126fb801-0519-4023-993d-488edd527fe0",
   "metadata": {},
   "outputs": [],
   "source": [
    "# Parameters\n",
    "gamma = 1\n",
    "alpha = 0.05\n",
    "num_episode = 50000\n",
    "min_difference = 1e-12\n",
    "goal_state = 32\n",
    "epsilon = 0.1"
   ]
  },
  {
   "cell_type": "code",
   "execution_count": 3,
   "id": "1ee4c65f-a1d3-4178-94c2-6a3e0ddad624",
   "metadata": {},
   "outputs": [],
   "source": [
    "def next_State(state, action):\n",
    "    if state<30:\n",
    "        if action == 0:\n",
    "            state_next = state + 5\n",
    "        elif action == 1:\n",
    "            state_next = state + 7\n",
    "        elif action == 2:\n",
    "            state_next = state + 6\n",
    "        elif action == 3:\n",
    "            state_next = state + 1\n",
    "    else:\n",
    "        state_next = state + 1\n",
    "    return state_next"
   ]
  },
  {
   "cell_type": "code",
   "execution_count": 4,
   "id": "512f6c05-c740-4646-a43c-7ac46dcdf39a",
   "metadata": {},
   "outputs": [],
   "source": [
    "def Action_greedy(state):\n",
    "    if np.random.uniform(0,1) < epsilon:\n",
    "        # Choose a random action\n",
    "        action = random.randint(0, 3)\n",
    "    else:\n",
    "        # Choose the action of a greedy policy\n",
    "        action = np.argmax(rewards[state])\n",
    "    return action"
   ]
  },
  {
   "cell_type": "code",
   "execution_count": 5,
   "id": "6e2f2a59-a76b-47e9-8623-7c3efc3c2adf",
   "metadata": {},
   "outputs": [],
   "source": [
    "def Check_break(cur_state): #Check if the agent is in a wrong state finish the episode\n",
    "    Br = [0, 5, 6, 10, 11, 12, 13, 17, 18, 22, 23, 24, 28,29,30,35]\n",
    "    for i in Br:\n",
    "        if(i == cur_state):\n",
    "            return 1\n",
    "    else:\n",
    "        return 0"
   ]
  },
  {
   "cell_type": "code",
   "execution_count": 6,
   "id": "f67f14e9-ee34-4d96-a6ca-a5036f5f2dc7",
   "metadata": {},
   "outputs": [],
   "source": [
    "def Sarsa(Start_Point, rewards, goal_state=None, gamma=0.99, alpha=0.01, num_episode=1000, min_difference=1e-5):\n",
    "    \n",
    "    Sum_reward = np.zeros(num_episode)\n",
    "    Q = np.zeros(rewards.shape) #Initiate the values of Q to zero\n",
    "    all_states = np.arange(len(rewards)) #the number of zeros\n",
    "    all_states = np.delete(all_states, [0, 5, 6, 10, 11, 12, 13, 17, 18, 22, 23, 24, 28,29,30,35], 0) #delete the states that agent cannot start in them\n",
    "    for i in range(num_episode):\n",
    "        Q_old = copy.deepcopy(Q) #Copy the current Q to Qold\n",
    "        # initialize state\n",
    "        initial_state = np.random.choice(all_states) #Choose a random start for starting\n",
    "        action = Action_greedy(initial_state) #Choose a greedy in the state that we are now\n",
    "        Sum_reward[i] = Sum_reward[i] + rewards[initial_state][action]\n",
    "        SS = next_State(initial_state, action) #go to the next state with the action  that agent has done\n",
    "        action_prime = Action_greedy(SS) #the action that the agent do\n",
    "        Q[initial_state][action] = Q[initial_state][action] + alpha * (rewards[initial_state][action] + gamma * Q[SS][action_prime] - Q[initial_state][action]) #value for Q\n",
    "        cur_state = SS #Current state\n",
    "        \n",
    "        # loop for each step of episode, until reaching goal state\n",
    "        counter = 1\n",
    "        while cur_state != goal_state: #Do the loop till reaching to the state goal\n",
    "            Check = Check_break(cur_state) #check if we are in the wrong state and if we are break the loop\n",
    "            if Check == 1:\n",
    "                break\n",
    "            # choose action form states using policy derived from Q\n",
    "            action = action_prime #Action\n",
    "            Sum_reward[i] = Sum_reward[i] + rewards[cur_state][action]\n",
    "            counter = counter + 1\n",
    "            SS = next_State(cur_state, action) #New State\n",
    "            \n",
    "            action_prime = Action_greedy(SS) #New Action\n",
    "            Q[cur_state][action] = Q[cur_state][action] + alpha * (rewards[cur_state][action] + gamma * Q[SS][action_prime] - Q[cur_state][action])\n",
    "            cur_state = SS #Current state\n",
    "            \n",
    "        if cur_state != goal_state:\n",
    "            Sum_reward[i] = -2\n",
    "        else: \n",
    "            Sum_reward[i] = Sum_reward[i] / counter\n",
    "\n",
    "    return Q,Sum_reward"
   ]
  },
  {
   "cell_type": "code",
   "execution_count": 7,
   "id": "14c3a96b-a364-4efd-850f-fb0e8989cb71",
   "metadata": {},
   "outputs": [
    {
     "data": {
      "text/plain": [
       "array([[ 0.        ,  0.        ,  0.        ,  0.        ],\n",
       "       [-4.89328133, 33.65774168, 29.42820278, 29.47017937],\n",
       "       [33.23509558, 31.20815985, 34.02102857, 32.43473896],\n",
       "       [35.67467991, -4.8123793 , 32.88336799, 28.43667999],\n",
       "       [33.98233585, -4.91742313, -4.90850208, -4.86208155],\n",
       "       [ 0.        ,  0.        ,  0.        ,  0.        ],\n",
       "       [ 0.        ,  0.        ,  0.        ,  0.        ],\n",
       "       [-4.99219911, 36.05216646, -4.99426563, 35.81768409],\n",
       "       [-4.99914047, 38.40183456, 35.63969299, 33.25391161],\n",
       "       [35.81476816, 30.29799297, 37.98705865, -4.98938787],\n",
       "       [ 0.        ,  0.        ,  0.        ,  0.        ],\n",
       "       [ 0.        ,  0.        ,  0.        ,  0.        ],\n",
       "       [ 0.        ,  0.        ,  0.        ,  0.        ],\n",
       "       [ 0.        ,  0.        ,  0.        ,  0.        ],\n",
       "       [37.33838003, 35.65410307, 39.28044186, 36.44720285],\n",
       "       [40.56726489, -4.99997748, 35.77998393, 29.98733435],\n",
       "       [37.07614913, -4.8123793 , -4.83913871, -4.8755286 ],\n",
       "       [ 0.        ,  0.        ,  0.        ,  0.        ],\n",
       "       [ 0.        ,  0.        ,  0.        ,  0.        ],\n",
       "       [-4.99999995, 40.59352023, 37.97633261, 39.46340914],\n",
       "       [41.90746279, 38.75143371, 39.59474742, 34.08771365],\n",
       "       [40.95477688, -4.9982375 , 39.63167366, -4.99532932],\n",
       "       [ 0.        ,  0.        ,  0.        ,  0.        ],\n",
       "       [ 0.        ,  0.        ,  0.        ,  0.        ],\n",
       "       [ 0.        ,  0.        ,  0.        ,  0.        ],\n",
       "       [-4.99999985, 43.01838465, 42.03551685, 34.7441696 ],\n",
       "       [42.01078276, -6.99914914, -7.94070682, 35.59629116],\n",
       "       [43.03022973, -5.89169914, -6.88717501, -4.88766456],\n",
       "       [ 0.        ,  0.        ,  0.        ,  0.        ],\n",
       "       [ 0.        ,  0.        ,  0.        ,  0.        ],\n",
       "       [ 0.        ,  0.        ,  0.        ,  0.        ],\n",
       "       [43.00735259, 43.05222947, 43.08539149, 43.01019518],\n",
       "       [-6.99986417, -6.80878431, -6.39819875, -6.52398415],\n",
       "       [-5.99999635, -5.99430341, -5.9945259 , -5.9969781 ],\n",
       "       [-5.        , -4.99933491, -4.99984182, -4.99976158],\n",
       "       [ 0.        ,  0.        ,  0.        ,  0.        ]])"
      ]
     },
     "execution_count": 7,
     "metadata": {},
     "output_type": "execute_result"
    }
   ],
   "source": [
    "Q, Sum_reward = Sarsa(1, rewards, goal_state=goal_state, gamma=gamma, alpha=alpha, num_episode=num_episode, min_difference=min_difference)           \n",
    "Q #the third column is for action of \"Up which is not allowed in first 30 states "
   ]
  },
  {
   "cell_type": "code",
   "execution_count": 8,
   "id": "30dd4108-34af-45d5-8cd3-9a8d7dded258",
   "metadata": {},
   "outputs": [],
   "source": [
    "def navigate(Start_point):\n",
    "    Start_point = Start_point - 1\n",
    "    i = 0\n",
    "    Q_nav = np.array(Q)\n",
    "    while True:\n",
    "        i = i + 1\n",
    "        if np.argmax(Q_nav[Start_point])== 0:\n",
    "            print(\"Right-Up\")\n",
    "            Start_point = Start_point + 5\n",
    "            \n",
    "        elif np.argmax(Q_nav[Start_point]) == 1:\n",
    "            print(\"Right-Down\")\n",
    "            Start_point = Start_point + 7\n",
    "            \n",
    "        elif np.argmax(Q_nav[Start_point]) == 2:\n",
    "            print(\"Right\")\n",
    "            Start_point = Start_point + 6\n",
    "        elif np.argmax(Q_nav[Start_point]) == 3:\n",
    "            print(\"Down\")\n",
    "            Start_point = Start_point + 1\n",
    "            \n",
    "        if Start_point == 32:\n",
    "            print(\"Goal !\")\n",
    "            break\n",
    "        if i > 10:\n",
    "            break"
   ]
  },
  {
   "cell_type": "code",
   "execution_count": 9,
   "id": "f5931572-2837-4a3b-95e9-68d0881dd876",
   "metadata": {},
   "outputs": [
    {
     "name": "stdout",
     "output_type": "stream",
     "text": [
      "Right-Down\n",
      "Right-Down\n",
      "Right-Up\n",
      "Right-Up\n",
      "Right-Down\n",
      "Goal !\n"
     ]
    }
   ],
   "source": [
    "Start_Point = np.array(2) #Choose any house number in the photo of the question and it will shows you the best direction\n",
    "navigate(Start_Point)"
   ]
  },
  {
   "cell_type": "code",
   "execution_count": 10,
   "id": "99d3a018-8580-4915-9a8b-ef3f87f89973",
   "metadata": {},
   "outputs": [
    {
     "data": {
      "image/png": "[encoded data removed]",
      "text/plain": [
       "<Figure size 640x480 with 1 Axes>"
      ]
     },
     "metadata": {},
     "output_type": "display_data"
    }
   ],
   "source": [
    "import matplotlib.pyplot as plt\n",
    "\n",
    "X = np.arange(num_episode)+1\n",
    "\n",
    "plt.scatter(X, Sum_reward)\n",
    "plt.show()"
   ]
  },
  {
   "cell_type": "code",
   "execution_count": 11,
   "id": "8ea28a74-2830-4d1e-9606-b0c872691ce1",
   "metadata": {},
   "outputs": [
    {
     "data": {
      "text/plain": [
       "array([[ 0.        ,  0.        ,  0.        ,  0.        ],\n",
       "       [-4.83913871, 36.36374072, 32.46800158, 27.49539571],\n",
       "       [31.08985452, 32.43637639, 32.85669511, 31.8806788 ],\n",
       "       [36.32770881, -4.88766456, 33.04875164, 30.30920864],\n",
       "       [29.36602359, -4.86897747, -4.63451137, -4.84718177],\n",
       "       [ 0.        ,  0.        ,  0.        ,  0.        ],\n",
       "       [ 0.        ,  0.        ,  0.        ,  0.        ],\n",
       "       [-4.98697109, 35.84354702, -4.98991847, 33.71923548],\n",
       "       [-4.99974903, 37.01999445, 35.15610491, 34.54112272],\n",
       "       [35.65140579, 33.05186011, 36.74008946, -4.99532932],\n",
       "       [ 0.        ,  0.        ,  0.        ,  0.        ],\n",
       "       [ 0.        ,  0.        ,  0.        ,  0.        ],\n",
       "       [ 0.        ,  0.        ,  0.        ,  0.        ],\n",
       "       [ 0.        ,  0.        ,  0.        ,  0.        ],\n",
       "       [34.98120862, 37.26926085, 40.00499525, 36.50295004],\n",
       "       [40.27963117, -4.99999541, 35.8486995 , 31.31438587],\n",
       "       [36.79556839, -4.83067232, -4.93274062, -4.83913871],\n",
       "       [ 0.        ,  0.        ,  0.        ,  0.        ],\n",
       "       [ 0.        ,  0.        ,  0.        ,  0.        ],\n",
       "       [-4.99999906, 33.69320623, 41.96204884, 39.50126044],\n",
       "       [41.85089171, 39.31174503, 35.36543051, 33.32473156],\n",
       "       [39.5109513 , -4.99508349, 41.4193653 , -4.99948537],\n",
       "       [ 0.        ,  0.        ,  0.        ,  0.        ],\n",
       "       [ 0.        ,  0.        ,  0.        ,  0.        ],\n",
       "       [ 0.        ,  0.        ,  0.        ,  0.        ],\n",
       "       [-4.99999993, 43.04648615, 42.03825372, 38.91380148],\n",
       "       [42.04037504, -6.99947822, -7.96149761, 36.4482957 ],\n",
       "       [43.03749711, -5.87512677, -6.91513878, -4.92920065],\n",
       "       [ 0.        ,  0.        ,  0.        ,  0.        ],\n",
       "       [ 0.        ,  0.        ,  0.        ,  0.        ],\n",
       "       [ 0.        ,  0.        ,  0.        ,  0.        ],\n",
       "       [43.02988621, 43.05262536, 43.04994404, 43.01631815],\n",
       "       [-6.999825  , -6.59100572, -6.66325987, -6.54632914],\n",
       "       [-5.99999124, -5.99731992, -5.99744237, -5.99494602],\n",
       "       [-5.        , -4.99991453, -4.99995832, -4.99982474],\n",
       "       [ 0.        ,  0.        ,  0.        ,  0.        ]])"
      ]
     },
     "execution_count": 11,
     "metadata": {},
     "output_type": "execute_result"
    }
   ],
   "source": [
    "Q, R = Sarsa(4, rewards, goal_state=goal_state, gamma=gamma, alpha=alpha, num_episode=num_episode, min_difference=min_difference)           \n",
    "Q"
   ]
  },
  {
   "cell_type": "code",
   "execution_count": 12,
   "id": "1902eb46-3161-41f6-9698-1a5b26dee637",
   "metadata": {},
   "outputs": [
    {
     "name": "stdout",
     "output_type": "stream",
     "text": [
      "Right-Up\n",
      "Right\n",
      "Right-Up\n",
      "Right-Up\n",
      "Right-Down\n",
      "Goal !\n"
     ]
    }
   ],
   "source": [
    "Start_Point = np.array(5)\n",
    "navigate(Start_Point)"
   ]
  },
  {
   "cell_type": "code",
   "execution_count": 13,
   "id": "9f4b9d4f-861c-42dd-8034-772972c89341",
   "metadata": {},
   "outputs": [
    {
     "data": {
      "image/png": "[encoded data removed]",
      "text/plain": [
       "<Figure size 640x480 with 1 Axes>"
      ]
     },
     "metadata": {},
     "output_type": "display_data"
    }
   ],
   "source": [
    "plt.scatter(X, R)\n",
    "plt.show()"
   ]
  },
  {
   "cell_type": "code",
   "execution_count": null,
   "id": "e5617325-6651-4fc7-8be9-c8fee444064f",
   "metadata": {},
   "outputs": [],
   "source": []
  }
 ],
 "metadata": {
  "kernelspec": {
   "display_name": "Python 3 (ipykernel)",
   "language": "python",
   "name": "python3"
  },
  "language_info": {
   "codemirror_mode": {
    "name": "ipython",
    "version": 3
   },
   "file_extension": ".py",
   "mimetype": "text/x-python",
   "name": "python",
   "nbconvert_exporter": "python",
   "pygments_lexer": "ipython3",
   "version": "3.10.9"
  }
 },
 "nbformat": 4,
 "nbformat_minor": 5
}
