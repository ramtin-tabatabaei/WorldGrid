{
 "cells": [
  {
   "cell_type": "code",
   "execution_count": 1,
   "id": "4a0982a8-fff8-44f9-b711-143477a8a6f8",
   "metadata": {},
   "outputs": [],
   "source": [
    "import numpy as np\n",
    "import copy \n",
    "import random\n",
    "\n",
    "# The explaination for this part is very similar to part C\n",
    "\n",
    "# Environemnts \n",
    "\n",
    "rewards = np.ones((36,4))*-1\n",
    "\n",
    "    \n",
    "    \n",
    "for i in range(5):\n",
    "    rewards[1+6*i,0] = -5\n",
    "    rewards[4+6*i,1] = -5\n",
    "    rewards[4+6*i,3] = -5\n",
    "\n",
    "    \n",
    "rewards[8,0] = -5\n",
    "rewards[3,1] = -5\n",
    "rewards[15,1] = -5\n",
    "rewards[21,1] = -5\n",
    "rewards[34,0] = -5\n",
    "rewards[34,1] = -5\n",
    "rewards[34,2] = -5\n",
    "rewards[34,3] = -5\n",
    "rewards[4,2] = -5\n",
    "rewards[16,2] = -5\n",
    "rewards[7,2] = -5\n",
    "rewards[9,3] = -5\n",
    "rewards[21,3] = -5\n",
    "rewards[27,3] = -5\n",
    "\n",
    "\n",
    "rewards[27,0] = 50\n",
    "rewards[25,1] = 50\n",
    "rewards[31,0] = 50\n",
    "rewards[31,1] = 50\n",
    "rewards[31,2] = 50\n",
    "rewards[31,3] = 50"
   ]
  },
  {
   "cell_type": "code",
   "execution_count": 2,
   "id": "126fb801-0519-4023-993d-488edd527fe0",
   "metadata": {},
   "outputs": [],
   "source": [
    "# Parameters\n",
    "gamma = 1\n",
    "alpha = 0.05\n",
    "num_episode = 5000\n",
    "min_difference = 1e-12\n",
    "goal_state = 32\n",
    "epsilon = 0.1"
   ]
  },
  {
   "cell_type": "code",
   "execution_count": 3,
   "id": "1ee4c65f-a1d3-4178-94c2-6a3e0ddad624",
   "metadata": {},
   "outputs": [],
   "source": [
    "def next_State(state, action):\n",
    "    if state<30:\n",
    "        if action == 0:\n",
    "            state_next = state + 5\n",
    "        elif action == 1:\n",
    "            state_next = state + 7\n",
    "        elif action == 2:\n",
    "            state_next = state + 6\n",
    "        elif action == 3:\n",
    "            state_next = state + 1\n",
    "    else:\n",
    "        state_next = state + 1\n",
    "    return state_next"
   ]
  },
  {
   "cell_type": "code",
   "execution_count": 4,
   "id": "512f6c05-c740-4646-a43c-7ac46dcdf39a",
   "metadata": {},
   "outputs": [],
   "source": [
    "def Action_greedy(state):\n",
    "    if np.random.uniform(0,1) < epsilon:\n",
    "        # Choose a random action\n",
    "        action = random.randint(0, 3)\n",
    "    else:\n",
    "        # Choose the action of a greedy policy\n",
    "        action = np.argmax(rewards[state])\n",
    "    return action"
   ]
  },
  {
   "cell_type": "code",
   "execution_count": 5,
   "id": "6e2f2a59-a76b-47e9-8623-7c3efc3c2adf",
   "metadata": {},
   "outputs": [],
   "source": [
    "def Check_break(cur_state):\n",
    "    Br = [0, 5, 6, 10, 11, 12, 13, 17, 18, 22, 23, 24, 28,29,30,35]\n",
    "    for i in Br:\n",
    "        if(i == cur_state):\n",
    "            return 1\n",
    "    else:\n",
    "        return 0"
   ]
  },
  {
   "cell_type": "code",
   "execution_count": 6,
   "id": "f67f14e9-ee34-4d96-a6ca-a5036f5f2dc7",
   "metadata": {},
   "outputs": [],
   "source": [
    "def QLearning(Start_Point, rewards, goal_state=None, gamma=0.99, alpha=0.01, num_episode=1000, min_difference=1e-5):\n",
    "\n",
    "    Sum_reward = np.zeros(num_episode)\n",
    "    Q = np.zeros(rewards.shape)\n",
    "    all_states = np.arange(len(rewards)) \n",
    "    all_states = np.delete(all_states, [0, 5, 6, 10, 11, 12, 13, 17, 18, 22, 23, 24, 28,29,30,35], 0)\n",
    "    for i in range(num_episode):\n",
    "        Q_old = copy.deepcopy(Q)\n",
    "        # initialize state\n",
    "        initial_state = np.random.choice(all_states)\n",
    "        #initial_state = Start_Point\n",
    "        action = Action_greedy(initial_state)\n",
    "        SS = next_State(initial_state, action)\n",
    "        Q[initial_state][action] = Q[initial_state][action] + alpha * (rewards[initial_state][action] + gamma * np.max(Q[SS]) - Q[initial_state][action])\n",
    "        cur_state = SS\n",
    "        Sum_reward[i] = Sum_reward[i] + rewards[initial_state][action]\n",
    "\n",
    "        # loop for each step of episode, until reaching goal state\n",
    "        counter = 1\n",
    "        while cur_state != goal_state:\n",
    "            Check = Check_break(cur_state)\n",
    "            if Check == 1:\n",
    "                break\n",
    "            # choose action form states using policy derived from Q\n",
    "            action = Action_greedy(cur_state)\n",
    "            #print(\"action: \", action)\n",
    "            SS = next_State(cur_state, action)\n",
    "            #print(\"SS: \", SS)\n",
    "            Q[cur_state][action] = Q[cur_state][action] + alpha * (rewards[cur_state][action] + gamma * np.max(Q[SS]) - Q[cur_state][action])\n",
    "            Sum_reward[i] = Sum_reward[i] + rewards[cur_state][action]\n",
    "            counter = counter + 1\n",
    "            cur_state = SS\n",
    "        if cur_state != goal_state:\n",
    "            Sum_reward[i] = -2\n",
    "        else: \n",
    "            Sum_reward[i] = Sum_reward[i] / counter\n",
    "            \n",
    "    return Q, Sum_reward"
   ]
  },
  {
   "cell_type": "code",
   "execution_count": 7,
   "id": "14c3a96b-a364-4efd-850f-fb0e8989cb71",
   "metadata": {},
   "outputs": [
    {
     "data": {
      "text/plain": [
       "array([[ 0.        ,  0.        ,  0.        ,  0.        ],\n",
       "       [-0.4875    , 45.89554345, 17.63196678,  3.99954456],\n",
       "       [44.89427798, 13.47071585, 13.69695832, 12.94163612],\n",
       "       [45.89409572, -1.13109531, 14.35422354,  9.92308151],\n",
       "       [44.89642691, -1.50831352, -1.13109531, -1.32454055],\n",
       "       [ 0.        ,  0.        ,  0.        ,  0.        ],\n",
       "       [ 0.        ,  0.        ,  0.        ,  0.        ],\n",
       "       [-2.15599954, 45.87953345, -2.15599954, 17.13200623],\n",
       "       [-2.79936666, 46.88021946, 26.5598706 , 26.06265222],\n",
       "       [45.88862583, 14.55415808, 22.23673838, -2.90939832],\n",
       "       [ 0.        ,  0.        ,  0.        ,  0.        ],\n",
       "       [ 0.        ,  0.        ,  0.        ,  0.        ],\n",
       "       [ 0.        ,  0.        ,  0.        ,  0.        ],\n",
       "       [ 0.        ,  0.        ,  0.        ,  0.        ],\n",
       "       [46.84459445, 35.41568754, 38.64829039, 34.90941119],\n",
       "       [47.83947776, -3.54005488, 31.48049911, 29.81722983],\n",
       "       [46.89101841, -1.68289784, -1.50831352, -1.50831352],\n",
       "       [ 0.        ,  0.        ,  0.        ,  0.        ],\n",
       "       [ 0.        ,  0.        ,  0.        ,  0.        ],\n",
       "       [-4.12587693, 47.78945442, 38.92064801, 37.72203489],\n",
       "       [48.78023248, 38.14690311, 30.22389434, 35.37974952],\n",
       "       [47.84078156, -2.79936666, 20.69394663, -2.90939832],\n",
       "       [ 0.        ,  0.        ,  0.        ,  0.        ],\n",
       "       [ 0.        ,  0.        ,  0.        ,  0.        ],\n",
       "       [ 0.        ,  0.        ,  0.        ,  0.        ],\n",
       "       [-4.35743922, 49.73108669, 41.69174303, 36.52541162],\n",
       "       [48.73799632, -1.50816467, -0.95499052, 45.88264175],\n",
       "       [49.79629661, -1.53945842, -0.59638101, -1.32454055],\n",
       "       [ 0.        ,  0.        ,  0.        ,  0.        ],\n",
       "       [ 0.        ,  0.        ,  0.        ,  0.        ],\n",
       "       [ 0.        ,  0.        ,  0.        ,  0.        ],\n",
       "       [49.71847095, 48.29408469, 45.180406  , 45.17724508],\n",
       "       [-1.80902722, -0.28673188, -0.45199308, -0.39620688],\n",
       "       [-3.65112907, -1.1295412 , -1.27533762, -1.42513373],\n",
       "       [-5.        , -2.79936666, -2.90939832, -3.54005488],\n",
       "       [ 0.        ,  0.        ,  0.        ,  0.        ]])"
      ]
     },
     "execution_count": 7,
     "metadata": {},
     "output_type": "execute_result"
    }
   ],
   "source": [
    "Q, R = QLearning(1, rewards, goal_state=goal_state, gamma=gamma, alpha=alpha, num_episode=num_episode, min_difference=min_difference)           \n",
    "Q"
   ]
  },
  {
   "cell_type": "code",
   "execution_count": 8,
   "id": "30dd4108-34af-45d5-8cd3-9a8d7dded258",
   "metadata": {},
   "outputs": [],
   "source": [
    "def navigate(Start_point):\n",
    "    Start_point = Start_point - 1\n",
    "    i = 0\n",
    "    Q_nav = np.array(Q)\n",
    "    while True:\n",
    "        i = i + 1\n",
    "        if np.argmax(Q_nav[Start_point])== 0:\n",
    "            print(\"Right-Up\")\n",
    "            Start_point = Start_point + 5\n",
    "            \n",
    "        elif np.argmax(Q_nav[Start_point]) == 1:\n",
    "            print(\"Right-Down\")\n",
    "            Start_point = Start_point + 7\n",
    "            \n",
    "        elif np.argmax(Q_nav[Start_point]) == 2:\n",
    "            print(\"Right\")\n",
    "            Start_point = Start_point + 6\n",
    "        elif np.argmax(Q_nav[Start_point]) == 3:\n",
    "            print(\"Down\")\n",
    "            Start_point = Start_point + 1\n",
    "            \n",
    "        if Start_point == 32:\n",
    "            print(\"Goal !\")\n",
    "            break\n",
    "        if i > 10:\n",
    "            break"
   ]
  },
  {
   "cell_type": "code",
   "execution_count": 9,
   "id": "f5931572-2837-4a3b-95e9-68d0881dd876",
   "metadata": {},
   "outputs": [
    {
     "name": "stdout",
     "output_type": "stream",
     "text": [
      "Right-Down\n",
      "Right-Down\n",
      "Right-Up\n",
      "Right-Up\n",
      "Right-Down\n",
      "Goal !\n"
     ]
    }
   ],
   "source": [
    "Start_Point = np.array(2)\n",
    "navigate(Start_Point)"
   ]
  },
  {
   "cell_type": "code",
   "execution_count": 10,
   "id": "e18587b0-12a2-41cc-8be8-bd908eb1dc05",
   "metadata": {},
   "outputs": [
    {
     "data": {
      "image/png": "[encoded data removed]",
      "text/plain": [
       "<Figure size 640x480 with 1 Axes>"
      ]
     },
     "metadata": {},
     "output_type": "display_data"
    }
   ],
   "source": [
    "import matplotlib.pyplot as plt\n",
    "\n",
    "X = np.arange(num_episode)+1\n",
    "\n",
    "plt.scatter(X, R)\n",
    "plt.show()"
   ]
  },
  {
   "cell_type": "code",
   "execution_count": 11,
   "id": "21c076a7-027e-4c16-98ff-f738687bc490",
   "metadata": {},
   "outputs": [
    {
     "data": {
      "text/plain": [
       "array([[ 0.        ,  0.        ,  0.        ,  0.        ],\n",
       "       [-0.713125  , 45.86228712, 15.92908339,  7.79707121],\n",
       "       [44.86441218,  6.37107308,  9.22454696,  6.3171425 ],\n",
       "       [45.86615146, -1.84875295,  6.34848725,  8.06739341],\n",
       "       [44.8706739 , -1.32454055, -1.84875295, -0.92746875],\n",
       "       [ 0.        ,  0.        ,  0.        ,  0.        ],\n",
       "       [ 0.        ,  0.        ,  0.        ,  0.        ],\n",
       "       [-3.01392841, 45.8536063 , -2.90939832, 18.58398641],\n",
       "       [-2.79936666, 46.85326954, 33.13458379, 24.21215144],\n",
       "       [45.85437468, 23.91637114, 20.22099785, -2.90939832],\n",
       "       [ 0.        ,  0.        ,  0.        ,  0.        ],\n",
       "       [ 0.        ,  0.        ,  0.        ,  0.        ],\n",
       "       [ 0.        ,  0.        ,  0.        ,  0.        ],\n",
       "       [ 0.        ,  0.        ,  0.        ,  0.        ],\n",
       "       [46.85309437, 35.96809991, 34.95043814, 39.9198175 ],\n",
       "       [47.85310012, -3.38233228, 28.42096791, 26.87339789],\n",
       "       [46.85943529, -0.713125  , -0.92746875, -1.84875295],\n",
       "       [ 0.        ,  0.        ,  0.        ,  0.        ],\n",
       "       [ 0.        ,  0.        ,  0.        ,  0.        ],\n",
       "       [-3.98046587, 47.85309227, 37.73053317, 41.2936197 ],\n",
       "       [48.85309245, 37.69419101, 37.01752518, 31.37367742],\n",
       "       [47.85325246, -2.79936666, 25.81423194, -2.90939832],\n",
       "       [ 0.        ,  0.        ,  0.        ,  0.        ],\n",
       "       [ 0.        ,  0.        ,  0.        ,  0.        ],\n",
       "       [ 0.        ,  0.        ,  0.        ,  0.        ],\n",
       "       [-4.32362023, 49.85309219, 45.73117603, 41.09237611],\n",
       "       [48.85309219, -1.22633887, -1.02026324, 47.00058757],\n",
       "       [49.85438758, -0.44954207, -0.62869544, -1.68289784],\n",
       "       [ 0.        ,  0.        ,  0.        ,  0.        ],\n",
       "       [ 0.        ,  0.        ,  0.        ,  0.        ],\n",
       "       [ 0.        ,  0.        ,  0.        ,  0.        ],\n",
       "       [49.85309219, 46.43739872, 44.95117832, 46.94485418],\n",
       "       [-1.65371292, -0.44481413, -0.14690781, -0.36145455],\n",
       "       [-3.80774291, -0.95519685, -1.23913705, -1.16576362],\n",
       "       [-5.        , -2.90939832, -3.68239953, -3.20757039],\n",
       "       [ 0.        ,  0.        ,  0.        ,  0.        ]])"
      ]
     },
     "execution_count": 11,
     "metadata": {},
     "output_type": "execute_result"
    }
   ],
   "source": [
    "Q, R = QLearning(4, rewards, goal_state=goal_state, gamma=gamma, alpha=alpha, num_episode=num_episode, min_difference=min_difference)           \n",
    "Q"
   ]
  },
  {
   "cell_type": "code",
   "execution_count": 12,
   "id": "06de94a3-f715-47a5-bfdf-65fc3429d021",
   "metadata": {},
   "outputs": [
    {
     "name": "stdout",
     "output_type": "stream",
     "text": [
      "Right-Up\n",
      "Right-Up\n",
      "Right-Up\n",
      "Right-Down\n",
      "Right-Up\n",
      "Right-Up\n"
     ]
    },
    {
     "ename": "IndexError",
     "evalue": "index 36 is out of bounds for axis 0 with size 36",
     "output_type": "error",
     "traceback": [
      "\u001b[1;31m---------------------------------------------------------------------------\u001b[0m",
      "\u001b[1;31mIndexError\u001b[0m                                Traceback (most recent call last)",
      "Cell \u001b[1;32mIn[12], line 2\u001b[0m\n\u001b[0;32m      1\u001b[0m Start_Point \u001b[38;5;241m=\u001b[39m np\u001b[38;5;241m.\u001b[39marray(\u001b[38;5;241m5\u001b[39m)\n\u001b[1;32m----> 2\u001b[0m \u001b[43mnavigate\u001b[49m\u001b[43m(\u001b[49m\u001b[43mStart_Point\u001b[49m\u001b[43m)\u001b[49m\n",
      "Cell \u001b[1;32mIn[8], line 7\u001b[0m, in \u001b[0;36mnavigate\u001b[1;34m(Start_point)\u001b[0m\n\u001b[0;32m      5\u001b[0m \u001b[38;5;28;01mwhile\u001b[39;00m \u001b[38;5;28;01mTrue\u001b[39;00m:\n\u001b[0;32m      6\u001b[0m     i \u001b[38;5;241m=\u001b[39m i \u001b[38;5;241m+\u001b[39m \u001b[38;5;241m1\u001b[39m\n\u001b[1;32m----> 7\u001b[0m     \u001b[38;5;28;01mif\u001b[39;00m np\u001b[38;5;241m.\u001b[39margmax(\u001b[43mQ_nav\u001b[49m\u001b[43m[\u001b[49m\u001b[43mStart_point\u001b[49m\u001b[43m]\u001b[49m)\u001b[38;5;241m==\u001b[39m \u001b[38;5;241m0\u001b[39m:\n\u001b[0;32m      8\u001b[0m         \u001b[38;5;28mprint\u001b[39m(\u001b[38;5;124m\"\u001b[39m\u001b[38;5;124mRight-Up\u001b[39m\u001b[38;5;124m\"\u001b[39m)\n\u001b[0;32m      9\u001b[0m         Start_point \u001b[38;5;241m=\u001b[39m Start_point \u001b[38;5;241m+\u001b[39m \u001b[38;5;241m5\u001b[39m\n",
      "\u001b[1;31mIndexError\u001b[0m: index 36 is out of bounds for axis 0 with size 36"
     ]
    }
   ],
   "source": [
    "Start_Point = np.array(5)\n",
    "navigate(Start_Point)"
   ]
  },
  {
   "cell_type": "code",
   "execution_count": null,
   "id": "8763938c-0622-4637-8d76-9ae8067019f3",
   "metadata": {},
   "outputs": [],
   "source": [
    "plt.scatter(X, R)\n",
    "plt.show()"
   ]
  },
  {
   "cell_type": "code",
   "execution_count": null,
   "id": "6d946cb8-e5cb-4c9d-9fde-4ecefe92a2ca",
   "metadata": {},
   "outputs": [],
   "source": []
  }
 ],
 "metadata": {
  "kernelspec": {
   "display_name": "Python 3 (ipykernel)",
   "language": "python",
   "name": "python3"
  },
  "language_info": {
   "codemirror_mode": {
    "name": "ipython",
    "version": 3
   },
   "file_extension": ".py",
   "mimetype": "text/x-python",
   "name": "python",
   "nbconvert_exporter": "python",
   "pygments_lexer": "ipython3",
   "version": "3.10.9"
  }
 },
 "nbformat": 4,
 "nbformat_minor": 5
}
