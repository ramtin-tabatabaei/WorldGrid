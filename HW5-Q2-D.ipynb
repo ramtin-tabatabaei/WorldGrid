{
 "cells": [
  {
   "cell_type": "code",
   "execution_count": 1,
   "id": "4a0982a8-fff8-44f9-b711-143477a8a6f8",
   "metadata": {},
   "outputs": [],
   "source": [
    "import numpy as np\n",
    "import copy \n",
    "import random\n",
    "\n",
    "# The explaination for this part is very similar to part C\n",
    "\n",
    "# Environemnts \n",
    "\n",
    "rewards = np.ones((36,4))*-1\n",
    "\n",
    "    \n",
    "    \n",
    "for i in range(5):\n",
    "    rewards[1+6*i,0] = -5\n",
    "    rewards[4+6*i,1] = -5\n",
    "    rewards[4+6*i,3] = -5\n",
    "\n",
    "    \n",
    "rewards[8,0] = -5\n",
    "rewards[3,1] = -5\n",
    "rewards[15,1] = -5\n",
    "rewards[21,1] = -5\n",
    "rewards[34,0] = -5\n",
    "rewards[34,1] = -5\n",
    "rewards[34,2] = -5\n",
    "rewards[34,3] = -5\n",
    "rewards[4,2] = -5\n",
    "rewards[16,2] = -5\n",
    "rewards[7,2] = -5\n",
    "rewards[9,3] = -5\n",
    "rewards[21,3] = -5\n",
    "rewards[27,3] = -5\n",
    "\n",
    "\n",
    "rewards[27,0] = 5\n",
    "rewards[25,1] = 5\n",
    "rewards[31,0] = 5\n",
    "rewards[31,1] = 5\n",
    "rewards[31,2] = 5\n",
    "rewards[31,3] = 5"
   ]
  },
  {
   "cell_type": "code",
   "execution_count": 2,
   "id": "126fb801-0519-4023-993d-488edd527fe0",
   "metadata": {},
   "outputs": [],
   "source": [
    "# Parameters\n",
    "gamma = 1\n",
    "alpha = 0.05\n",
    "num_episode = 5000\n",
    "min_difference = 1e-12\n",
    "goal_state = 32\n",
    "epsilon = 0.1"
   ]
  },
  {
   "cell_type": "code",
   "execution_count": 3,
   "id": "1ee4c65f-a1d3-4178-94c2-6a3e0ddad624",
   "metadata": {},
   "outputs": [],
   "source": [
    "def next_State(state, action):\n",
    "    if state<30:\n",
    "        if action == 0:\n",
    "            state_next = state + 5\n",
    "        elif action == 1:\n",
    "            state_next = state + 7\n",
    "        elif action == 2:\n",
    "            state_next = state + 6\n",
    "        elif action == 3:\n",
    "            state_next = state + 1\n",
    "    else:\n",
    "        state_next = state + 1\n",
    "    return state_next"
   ]
  },
  {
   "cell_type": "code",
   "execution_count": 4,
   "id": "512f6c05-c740-4646-a43c-7ac46dcdf39a",
   "metadata": {},
   "outputs": [],
   "source": [
    "def Action_greedy(state):\n",
    "    if np.random.uniform(0,1) < epsilon:\n",
    "        # Choose a random action\n",
    "        action = random.randint(0, 3)\n",
    "    else:\n",
    "        # Choose the action of a greedy policy\n",
    "        action = np.argmax(rewards[state])\n",
    "    return action"
   ]
  },
  {
   "cell_type": "code",
   "execution_count": 5,
   "id": "6e2f2a59-a76b-47e9-8623-7c3efc3c2adf",
   "metadata": {},
   "outputs": [],
   "source": [
    "def Check_break(cur_state):\n",
    "    Br = [0, 5, 6, 10, 11, 12, 13, 17, 18, 22, 23, 24, 28,29,30,35]\n",
    "    for i in Br:\n",
    "        if(i == cur_state):\n",
    "            return 1\n",
    "    else:\n",
    "        return 0"
   ]
  },
  {
   "cell_type": "code",
   "execution_count": 6,
   "id": "f67f14e9-ee34-4d96-a6ca-a5036f5f2dc7",
   "metadata": {},
   "outputs": [],
   "source": [
    "def QLearning(Start_Point, rewards, goal_state=None, gamma=0.99, alpha=0.01, num_episode=1000, min_difference=1e-5):\n",
    "    \"\"\" \n",
    "    Run Q-learning loop for num_episode iterations or till difference between Q is below min_difference.\n",
    "    \"\"\"\n",
    "    Sum_reward = np.zeros(num_episode)\n",
    "    Q = np.zeros(rewards.shape)\n",
    "    #all_states = np.arange(len(rewards)) \n",
    "    #all_states = np.delete(all_states, [0, 5, 6, 10, 11, 12, 13, 17, 18, 22, 23, 24, 28,29,30,35], 0)\n",
    "    for i in range(num_episode):\n",
    "        Q_old = copy.deepcopy(Q)\n",
    "        # initialize state\n",
    "        #initial_state = np.random.choice(all_states)\n",
    "        initial_state = Start_Point\n",
    "        action = Action_greedy(initial_state)\n",
    "        SS = next_State(initial_state, action)\n",
    "        Q[initial_state][action] = Q[initial_state][action] + alpha * (rewards[initial_state][action] + gamma * np.max(Q[SS]) - Q[initial_state][action])\n",
    "        cur_state = SS\n",
    "        Sum_reward[i] = Sum_reward[i] + rewards[initial_state][action]\n",
    "\n",
    "        # loop for each step of episode, until reaching goal state\n",
    "        counter = 1\n",
    "        while cur_state != goal_state:\n",
    "            Check = Check_break(cur_state)\n",
    "            if Check == 1:\n",
    "                break\n",
    "            # choose action form states using policy derived from Q\n",
    "            action = Action_greedy(cur_state)\n",
    "            #print(\"action: \", action)\n",
    "            SS = next_State(cur_state, action)\n",
    "            #print(\"SS: \", SS)\n",
    "            Q[cur_state][action] = Q[cur_state][action] + alpha * (rewards[cur_state][action] + gamma * np.max(Q[SS]) - Q[cur_state][action])\n",
    "            Sum_reward[i] = Sum_reward[i] + rewards[cur_state][action]\n",
    "            counter = counter + 1\n",
    "            cur_state = SS\n",
    "        if cur_state != goal_state:\n",
    "            Sum_reward[i] = -2\n",
    "        else: \n",
    "            Sum_reward[i] = Sum_reward[i] / counter\n",
    "            \n",
    "    return Q, Sum_reward"
   ]
  },
  {
   "cell_type": "code",
   "execution_count": 7,
   "id": "14c3a96b-a364-4efd-850f-fb0e8989cb71",
   "metadata": {},
   "outputs": [
    {
     "data": {
      "text/plain": [
       "array([[ 0.        ,  0.        ,  0.        ,  0.        ],\n",
       "       [-4.99673829,  1.        , -0.0268856 , -0.88259186],\n",
       "       [-0.04217446, -0.05      ,  0.11867909, -0.23301959],\n",
       "       [ 0.26154393,  0.        ,  0.        ,  0.        ],\n",
       "       [ 0.        ,  0.        ,  0.        ,  0.        ],\n",
       "       [ 0.        ,  0.        ,  0.        ,  0.        ],\n",
       "       [ 0.        ,  0.        ,  0.        ,  0.        ],\n",
       "       [-0.92746875,  0.99934785, -0.4875    ,  0.24705094],\n",
       "       [-4.98762253,  2.        ,  0.98128607, -0.11210728],\n",
       "       [ 0.97475761,  0.03048428,  0.195     ,  0.        ],\n",
       "       [ 0.        ,  0.        ,  0.        ,  0.        ],\n",
       "       [ 0.        ,  0.        ,  0.        ,  0.        ],\n",
       "       [ 0.        ,  0.        ,  0.        ,  0.        ],\n",
       "       [ 0.        ,  0.        ,  0.        ,  0.        ],\n",
       "       [ 1.99999915,  0.60440223,  1.37891974,  0.67315914],\n",
       "       [ 3.        , -4.98400391,  1.96115974,  0.89204374],\n",
       "       [ 1.97663155, -1.32454055, -0.4875    , -1.13109531],\n",
       "       [ 0.        ,  0.        ,  0.        ,  0.        ],\n",
       "       [ 0.        ,  0.        ,  0.        ,  0.        ],\n",
       "       [-1.50831352,  2.99999992,  1.60501899,  1.29236574],\n",
       "       [ 4.        ,  3.91602073,  2.9616876 ,  1.98265694],\n",
       "       [ 2.9999982 , -2.0063153 ,  1.27320063, -1.50831352],\n",
       "       [ 0.        ,  0.        ,  0.        ,  0.        ],\n",
       "       [ 0.        ,  0.        ,  0.        ,  0.        ],\n",
       "       [ 0.        ,  0.        ,  0.        ,  0.        ],\n",
       "       [-4.86897747,  5.        ,  3.90046605,  2.94651399],\n",
       "       [ 4.        , -0.69264313, -0.6226464 ,  2.61943944],\n",
       "       [ 4.99455235, -0.22621906, -0.18549375, -1.13109531],\n",
       "       [ 0.        ,  0.        ,  0.        ,  0.        ],\n",
       "       [ 0.        ,  0.        ,  0.        ,  0.        ],\n",
       "       [ 0.        ,  0.        ,  0.        ,  0.        ],\n",
       "       [ 5.        ,  3.74827955,  2.79936666,  3.81086557],\n",
       "       [ 0.        ,  0.        ,  0.        ,  0.        ],\n",
       "       [-0.73647991,  0.        ,  0.        , -0.05      ],\n",
       "       [-3.92680618, -0.25      ,  0.        , -0.25      ],\n",
       "       [ 0.        ,  0.        ,  0.        ,  0.        ]])"
      ]
     },
     "execution_count": 7,
     "metadata": {},
     "output_type": "execute_result"
    }
   ],
   "source": [
    "Q, R = QLearning(1, rewards, goal_state=goal_state, gamma=gamma, alpha=alpha, num_episode=num_episode, min_difference=min_difference)           \n",
    "Q"
   ]
  },
  {
   "cell_type": "code",
   "execution_count": 8,
   "id": "30dd4108-34af-45d5-8cd3-9a8d7dded258",
   "metadata": {},
   "outputs": [],
   "source": [
    "def navigate(Start_point):\n",
    "    Start_point = Start_point - 1\n",
    "    i = 0\n",
    "    Q_nav = np.array(Q)\n",
    "    while True:\n",
    "        i = i + 1\n",
    "        if np.argmax(Q_nav[Start_point])== 0:\n",
    "            print(\"Right-Up\")\n",
    "            Start_point = Start_point + 5\n",
    "            \n",
    "        elif np.argmax(Q_nav[Start_point]) == 1:\n",
    "            print(\"Right-Down\")\n",
    "            Start_point = Start_point + 7\n",
    "            \n",
    "        elif np.argmax(Q_nav[Start_point]) == 2:\n",
    "            print(\"Right\")\n",
    "            Start_point = Start_point + 6\n",
    "        elif np.argmax(Q_nav[Start_point]) == 3:\n",
    "            print(\"Down\")\n",
    "            Start_point = Start_point + 1\n",
    "            \n",
    "        if Start_point == 32:\n",
    "            print(\"Goal !\")\n",
    "            break\n",
    "        if i > 10:\n",
    "            break"
   ]
  },
  {
   "cell_type": "code",
   "execution_count": 9,
   "id": "f5931572-2837-4a3b-95e9-68d0881dd876",
   "metadata": {},
   "outputs": [
    {
     "name": "stdout",
     "output_type": "stream",
     "text": [
      "Right-Down\n",
      "Right-Down\n",
      "Right-Up\n",
      "Right-Up\n",
      "Right-Down\n",
      "Goal !\n"
     ]
    }
   ],
   "source": [
    "Start_Point = np.array(2)\n",
    "navigate(Start_Point)"
   ]
  },
  {
   "cell_type": "code",
   "execution_count": 10,
   "id": "e18587b0-12a2-41cc-8be8-bd908eb1dc05",
   "metadata": {},
   "outputs": [
    {
     "data": {
      "image/png": "[encoded data removed]",
      "text/plain": [
       "<Figure size 640x480 with 1 Axes>"
      ]
     },
     "metadata": {},
     "output_type": "display_data"
    }
   ],
   "source": [
    "import matplotlib.pyplot as plt\n",
    "\n",
    "X = np.arange(num_episode)+1\n",
    "\n",
    "plt.scatter(X, R)\n",
    "plt.show()"
   ]
  },
  {
   "cell_type": "code",
   "execution_count": 11,
   "id": "21c076a7-027e-4c16-98ff-f738687bc490",
   "metadata": {},
   "outputs": [
    {
     "data": {
      "text/plain": [
       "array([[ 0.        ,  0.        ,  0.        ,  0.        ],\n",
       "       [ 0.        ,  0.        ,  0.        ,  0.        ],\n",
       "       [ 0.        ,  0.        ,  0.        ,  0.        ],\n",
       "       [ 0.        ,  0.        ,  0.        ,  0.        ],\n",
       "       [ 0.97781493, -4.99219911, -4.99331171, -4.99364612],\n",
       "       [ 0.        ,  0.        ,  0.        ,  0.        ],\n",
       "       [ 0.        ,  0.        ,  0.        ,  0.        ],\n",
       "       [ 0.        ,  0.        ,  0.        ,  0.        ],\n",
       "       [ 0.        ,  0.        ,  0.        ,  0.        ],\n",
       "       [ 1.97444511,  0.82287323,  1.9788732 , -4.97932737],\n",
       "       [ 0.        ,  0.        ,  0.        ,  0.        ],\n",
       "       [ 0.        ,  0.        ,  0.        ,  0.        ],\n",
       "       [ 0.        ,  0.        ,  0.        ,  0.        ],\n",
       "       [ 0.        ,  0.        ,  0.        ,  0.        ],\n",
       "       [ 2.97513229,  1.97929429,  2.97022715,  1.90725982],\n",
       "       [ 2.99958296, -0.92746875,  0.37076121,  0.19902098],\n",
       "       [ 1.96045451, -0.713125  , -0.713125  , -1.13109531],\n",
       "       [ 0.        ,  0.        ,  0.        ,  0.        ],\n",
       "       [ 0.        ,  0.        ,  0.        ,  0.        ],\n",
       "       [-4.97932737,  3.        ,  3.97556782,  2.96821271],\n",
       "       [ 3.99999988,  1.67067936,  1.45997317,  0.61487796],\n",
       "       [ 2.99989438, -1.50831352,  0.48857675, -1.68289784],\n",
       "       [ 0.        ,  0.        ,  0.        ,  0.        ],\n",
       "       [ 0.        ,  0.        ,  0.        ,  0.        ],\n",
       "       [ 0.        ,  0.        ,  0.        ,  0.        ],\n",
       "       [-2.29819956,  5.        ,  2.03836156,  1.29359893],\n",
       "       [ 4.        , -1.04095388, -0.99541881,  3.83869919],\n",
       "       [ 4.9822758 , -0.0625    , -0.14575   , -0.25      ],\n",
       "       [ 0.        ,  0.        ,  0.        ,  0.        ],\n",
       "       [ 0.        ,  0.        ,  0.        ,  0.        ],\n",
       "       [ 0.        ,  0.        ,  0.        ,  0.        ],\n",
       "       [ 5.        ,  4.95972933,  4.96365572,  4.94795598],\n",
       "       [ 0.        ,  0.        ,  0.        ,  0.        ],\n",
       "       [-1.24015707, -0.0625    , -0.0625    , -0.23186719],\n",
       "       [-4.97039735, -0.713125  , -0.25      , -0.713125  ],\n",
       "       [ 0.        ,  0.        ,  0.        ,  0.        ]])"
      ]
     },
     "execution_count": 11,
     "metadata": {},
     "output_type": "execute_result"
    }
   ],
   "source": [
    "Q, R = QLearning(4, rewards, goal_state=goal_state, gamma=gamma, alpha=alpha, num_episode=num_episode, min_difference=min_difference)           \n",
    "Q"
   ]
  },
  {
   "cell_type": "code",
   "execution_count": 12,
   "id": "06de94a3-f715-47a5-bfdf-65fc3429d021",
   "metadata": {},
   "outputs": [
    {
     "name": "stdout",
     "output_type": "stream",
     "text": [
      "Right-Up\n",
      "Right\n",
      "Right-Up\n",
      "Right-Up\n",
      "Right-Down\n",
      "Goal !\n"
     ]
    }
   ],
   "source": [
    "Start_Point = np.array(5)\n",
    "navigate(Start_Point)"
   ]
  },
  {
   "cell_type": "code",
   "execution_count": 13,
   "id": "8763938c-0622-4637-8d76-9ae8067019f3",
   "metadata": {},
   "outputs": [
    {
     "data": {
      "image/png": "[encoded data removed]",
      "text/plain": [
       "<Figure size 640x480 with 1 Axes>"
      ]
     },
     "metadata": {},
     "output_type": "display_data"
    }
   ],
   "source": [
    "plt.scatter(X, R)\n",
    "plt.show()"
   ]
  },
  {
   "cell_type": "code",
   "execution_count": null,
   "id": "6d946cb8-e5cb-4c9d-9fde-4ecefe92a2ca",
   "metadata": {},
   "outputs": [],
   "source": []
  }
 ],
 "metadata": {
  "kernelspec": {
   "display_name": "Python 3 (ipykernel)",
   "language": "python",
   "name": "python3"
  },
  "language_info": {
   "codemirror_mode": {
    "name": "ipython",
    "version": 3
   },
   "file_extension": ".py",
   "mimetype": "text/x-python",
   "name": "python",
   "nbconvert_exporter": "python",
   "pygments_lexer": "ipython3",
   "version": "3.10.9"
  }
 },
 "nbformat": 4,
 "nbformat_minor": 5
}
